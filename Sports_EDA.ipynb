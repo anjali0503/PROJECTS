{
  "nbformat": 4,
  "nbformat_minor": 0,
  "metadata": {
    "colab": {
      "name": "Sports-EDA",
      "provenance": [],
      "include_colab_link": true
    },
    "kernelspec": {
      "name": "python3",
      "display_name": "Python 3"
    },
    "language_info": {
      "name": "python"
    }
  },
  "cells": [
    {
      "cell_type": "markdown",
      "metadata": {
        "id": "view-in-github",
        "colab_type": "text"
      },
      "source": [
        "<a href=\"https://colab.research.google.com/github/anjali0503/PROJECTS/blob/main/Sports_EDA.ipynb\" target=\"_parent\"><img src=\"https://colab.research.google.com/assets/colab-badge.svg\" alt=\"Open In Colab\"/></a>"
      ]
    },
    {
      "cell_type": "markdown",
      "metadata": {
        "id": "rm97mKcfGmU4"
      },
      "source": [
        "![image.png](data:image/png;base64,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)"
      ]
    },
    {
      "cell_type": "markdown",
      "metadata": {
        "id": "tMsT8gqKxJHj"
      },
      "source": [
        "\n",
        "\n",
        "\n",
        "Exploratory Data Analysis - Sports\n",
        "\n",
        "## TASK:05\n",
        "\n",
        "'As a sports analysts, find out the most successful teams, players and factors\n",
        "contributing win or loss of a team.'"
      ]
    },
    {
      "cell_type": "code",
      "metadata": {
        "id": "AMr-W1ajaqeS"
      },
      "source": [
        "#importing dependencies\n",
        "import numpy as np \n",
        "import pandas as pd \n",
        "import matplotlib.pyplot as plt \n",
        "import seaborn as sns"
      ],
      "execution_count": null,
      "outputs": []
    },
    {
      "cell_type": "code",
      "metadata": {
        "colab": {
          "base_uri": "https://localhost:8080/",
          "height": 791
        },
        "id": "a9wwxOm-uNUf",
        "outputId": "c2589b49-c598-406a-eed1-795d05dd8071"
      },
      "source": [
        "df = pd.read_csv(\"matches.csv\")       #Reading dataset\n",
        "df"
      ],
      "execution_count": null,
      "outputs": [
        {
          "output_type": "execute_result",
          "data": {
            "text/html": [
              "<div>\n",
              "<style scoped>\n",
              "    .dataframe tbody tr th:only-of-type {\n",
              "        vertical-align: middle;\n",
              "    }\n",
              "\n",
              "    .dataframe tbody tr th {\n",
              "        vertical-align: top;\n",
              "    }\n",
              "\n",
              "    .dataframe thead th {\n",
              "        text-align: right;\n",
              "    }\n",
              "</style>\n",
              "<table border=\"1\" class=\"dataframe\">\n",
              "  <thead>\n",
              "    <tr style=\"text-align: right;\">\n",
              "      <th></th>\n",
              "      <th>id</th>\n",
              "      <th>season</th>\n",
              "      <th>city</th>\n",
              "      <th>date</th>\n",
              "      <th>team1</th>\n",
              "      <th>team2</th>\n",
              "      <th>toss_winner</th>\n",
              "      <th>toss_decision</th>\n",
              "      <th>result</th>\n",
              "      <th>dl_applied</th>\n",
              "      <th>winner</th>\n",
              "      <th>win_by_runs</th>\n",
              "      <th>win_by_wickets</th>\n",
              "      <th>player_of_match</th>\n",
              "      <th>venue</th>\n",
              "      <th>umpire1</th>\n",
              "      <th>umpire2</th>\n",
              "      <th>umpire3</th>\n",
              "    </tr>\n",
              "  </thead>\n",
              "  <tbody>\n",
              "    <tr>\n",
              "      <th>0</th>\n",
              "      <td>1</td>\n",
              "      <td>2017</td>\n",
              "      <td>Hyderabad</td>\n",
              "      <td>2017-04-05</td>\n",
              "      <td>Sunrisers Hyderabad</td>\n",
              "      <td>Royal Challengers Bangalore</td>\n",
              "      <td>Royal Challengers Bangalore</td>\n",
              "      <td>field</td>\n",
              "      <td>normal</td>\n",
              "      <td>0</td>\n",
              "      <td>Sunrisers Hyderabad</td>\n",
              "      <td>35</td>\n",
              "      <td>0</td>\n",
              "      <td>Yuvraj Singh</td>\n",
              "      <td>Rajiv Gandhi International Stadium, Uppal</td>\n",
              "      <td>AY Dandekar</td>\n",
              "      <td>NJ Llong</td>\n",
              "      <td>NaN</td>\n",
              "    </tr>\n",
              "    <tr>\n",
              "      <th>1</th>\n",
              "      <td>2</td>\n",
              "      <td>2017</td>\n",
              "      <td>Pune</td>\n",
              "      <td>2017-04-06</td>\n",
              "      <td>Mumbai Indians</td>\n",
              "      <td>Rising Pune Supergiant</td>\n",
              "      <td>Rising Pune Supergiant</td>\n",
              "      <td>field</td>\n",
              "      <td>normal</td>\n",
              "      <td>0</td>\n",
              "      <td>Rising Pune Supergiant</td>\n",
              "      <td>0</td>\n",
              "      <td>7</td>\n",
              "      <td>SPD Smith</td>\n",
              "      <td>Maharashtra Cricket Association Stadium</td>\n",
              "      <td>A Nand Kishore</td>\n",
              "      <td>S Ravi</td>\n",
              "      <td>NaN</td>\n",
              "    </tr>\n",
              "    <tr>\n",
              "      <th>2</th>\n",
              "      <td>3</td>\n",
              "      <td>2017</td>\n",
              "      <td>Rajkot</td>\n",
              "      <td>2017-04-07</td>\n",
              "      <td>Gujarat Lions</td>\n",
              "      <td>Kolkata Knight Riders</td>\n",
              "      <td>Kolkata Knight Riders</td>\n",
              "      <td>field</td>\n",
              "      <td>normal</td>\n",
              "      <td>0</td>\n",
              "      <td>Kolkata Knight Riders</td>\n",
              "      <td>0</td>\n",
              "      <td>10</td>\n",
              "      <td>CA Lynn</td>\n",
              "      <td>Saurashtra Cricket Association Stadium</td>\n",
              "      <td>Nitin Menon</td>\n",
              "      <td>CK Nandan</td>\n",
              "      <td>NaN</td>\n",
              "    </tr>\n",
              "    <tr>\n",
              "      <th>3</th>\n",
              "      <td>4</td>\n",
              "      <td>2017</td>\n",
              "      <td>Indore</td>\n",
              "      <td>2017-04-08</td>\n",
              "      <td>Rising Pune Supergiant</td>\n",
              "      <td>Kings XI Punjab</td>\n",
              "      <td>Kings XI Punjab</td>\n",
              "      <td>field</td>\n",
              "      <td>normal</td>\n",
              "      <td>0</td>\n",
              "      <td>Kings XI Punjab</td>\n",
              "      <td>0</td>\n",
              "      <td>6</td>\n",
              "      <td>GJ Maxwell</td>\n",
              "      <td>Holkar Cricket Stadium</td>\n",
              "      <td>AK Chaudhary</td>\n",
              "      <td>C Shamshuddin</td>\n",
              "      <td>NaN</td>\n",
              "    </tr>\n",
              "    <tr>\n",
              "      <th>4</th>\n",
              "      <td>5</td>\n",
              "      <td>2017</td>\n",
              "      <td>Bangalore</td>\n",
              "      <td>2017-04-08</td>\n",
              "      <td>Royal Challengers Bangalore</td>\n",
              "      <td>Delhi Daredevils</td>\n",
              "      <td>Royal Challengers Bangalore</td>\n",
              "      <td>bat</td>\n",
              "      <td>normal</td>\n",
              "      <td>0</td>\n",
              "      <td>Royal Challengers Bangalore</td>\n",
              "      <td>15</td>\n",
              "      <td>0</td>\n",
              "      <td>KM Jadhav</td>\n",
              "      <td>M Chinnaswamy Stadium</td>\n",
              "      <td>NaN</td>\n",
              "      <td>NaN</td>\n",
              "      <td>NaN</td>\n",
              "    </tr>\n",
              "    <tr>\n",
              "      <th>...</th>\n",
              "      <td>...</td>\n",
              "      <td>...</td>\n",
              "      <td>...</td>\n",
              "      <td>...</td>\n",
              "      <td>...</td>\n",
              "      <td>...</td>\n",
              "      <td>...</td>\n",
              "      <td>...</td>\n",
              "      <td>...</td>\n",
              "      <td>...</td>\n",
              "      <td>...</td>\n",
              "      <td>...</td>\n",
              "      <td>...</td>\n",
              "      <td>...</td>\n",
              "      <td>...</td>\n",
              "      <td>...</td>\n",
              "      <td>...</td>\n",
              "      <td>...</td>\n",
              "    </tr>\n",
              "    <tr>\n",
              "      <th>751</th>\n",
              "      <td>11347</td>\n",
              "      <td>2019</td>\n",
              "      <td>Mumbai</td>\n",
              "      <td>05/05/19</td>\n",
              "      <td>Kolkata Knight Riders</td>\n",
              "      <td>Mumbai Indians</td>\n",
              "      <td>Mumbai Indians</td>\n",
              "      <td>field</td>\n",
              "      <td>normal</td>\n",
              "      <td>0</td>\n",
              "      <td>Mumbai Indians</td>\n",
              "      <td>0</td>\n",
              "      <td>9</td>\n",
              "      <td>HH Pandya</td>\n",
              "      <td>Wankhede Stadium</td>\n",
              "      <td>Nanda Kishore</td>\n",
              "      <td>O Nandan</td>\n",
              "      <td>S Ravi</td>\n",
              "    </tr>\n",
              "    <tr>\n",
              "      <th>752</th>\n",
              "      <td>11412</td>\n",
              "      <td>2019</td>\n",
              "      <td>Chennai</td>\n",
              "      <td>07/05/19</td>\n",
              "      <td>Chennai Super Kings</td>\n",
              "      <td>Mumbai Indians</td>\n",
              "      <td>Chennai Super Kings</td>\n",
              "      <td>bat</td>\n",
              "      <td>normal</td>\n",
              "      <td>0</td>\n",
              "      <td>Mumbai Indians</td>\n",
              "      <td>0</td>\n",
              "      <td>6</td>\n",
              "      <td>AS Yadav</td>\n",
              "      <td>M. A. Chidambaram Stadium</td>\n",
              "      <td>Nigel Llong</td>\n",
              "      <td>Nitin Menon</td>\n",
              "      <td>Ian Gould</td>\n",
              "    </tr>\n",
              "    <tr>\n",
              "      <th>753</th>\n",
              "      <td>11413</td>\n",
              "      <td>2019</td>\n",
              "      <td>Visakhapatnam</td>\n",
              "      <td>08/05/19</td>\n",
              "      <td>Sunrisers Hyderabad</td>\n",
              "      <td>Delhi Capitals</td>\n",
              "      <td>Delhi Capitals</td>\n",
              "      <td>field</td>\n",
              "      <td>normal</td>\n",
              "      <td>0</td>\n",
              "      <td>Delhi Capitals</td>\n",
              "      <td>0</td>\n",
              "      <td>2</td>\n",
              "      <td>RR Pant</td>\n",
              "      <td>ACA-VDCA Stadium</td>\n",
              "      <td>NaN</td>\n",
              "      <td>NaN</td>\n",
              "      <td>NaN</td>\n",
              "    </tr>\n",
              "    <tr>\n",
              "      <th>754</th>\n",
              "      <td>11414</td>\n",
              "      <td>2019</td>\n",
              "      <td>Visakhapatnam</td>\n",
              "      <td>10/05/19</td>\n",
              "      <td>Delhi Capitals</td>\n",
              "      <td>Chennai Super Kings</td>\n",
              "      <td>Chennai Super Kings</td>\n",
              "      <td>field</td>\n",
              "      <td>normal</td>\n",
              "      <td>0</td>\n",
              "      <td>Chennai Super Kings</td>\n",
              "      <td>0</td>\n",
              "      <td>6</td>\n",
              "      <td>F du Plessis</td>\n",
              "      <td>ACA-VDCA Stadium</td>\n",
              "      <td>Sundaram Ravi</td>\n",
              "      <td>Bruce Oxenford</td>\n",
              "      <td>Chettithody Shamshuddin</td>\n",
              "    </tr>\n",
              "    <tr>\n",
              "      <th>755</th>\n",
              "      <td>11415</td>\n",
              "      <td>2019</td>\n",
              "      <td>Hyderabad</td>\n",
              "      <td>12/05/19</td>\n",
              "      <td>Mumbai Indians</td>\n",
              "      <td>Chennai Super Kings</td>\n",
              "      <td>Mumbai Indians</td>\n",
              "      <td>bat</td>\n",
              "      <td>normal</td>\n",
              "      <td>0</td>\n",
              "      <td>Mumbai Indians</td>\n",
              "      <td>1</td>\n",
              "      <td>0</td>\n",
              "      <td>JJ Bumrah</td>\n",
              "      <td>Rajiv Gandhi Intl. Cricket Stadium</td>\n",
              "      <td>Nitin Menon</td>\n",
              "      <td>Ian Gould</td>\n",
              "      <td>Nigel Llong</td>\n",
              "    </tr>\n",
              "  </tbody>\n",
              "</table>\n",
              "<p>756 rows × 18 columns</p>\n",
              "</div>"
            ],
            "text/plain": [
              "        id  season  ...         umpire2                  umpire3\n",
              "0        1    2017  ...        NJ Llong                      NaN\n",
              "1        2    2017  ...          S Ravi                      NaN\n",
              "2        3    2017  ...       CK Nandan                      NaN\n",
              "3        4    2017  ...   C Shamshuddin                      NaN\n",
              "4        5    2017  ...             NaN                      NaN\n",
              "..     ...     ...  ...             ...                      ...\n",
              "751  11347    2019  ...        O Nandan                   S Ravi\n",
              "752  11412    2019  ...     Nitin Menon                Ian Gould\n",
              "753  11413    2019  ...             NaN                      NaN\n",
              "754  11414    2019  ...  Bruce Oxenford  Chettithody Shamshuddin\n",
              "755  11415    2019  ...       Ian Gould              Nigel Llong\n",
              "\n",
              "[756 rows x 18 columns]"
            ]
          },
          "metadata": {
            "tags": []
          },
          "execution_count": 3
        }
      ]
    },
    {
      "cell_type": "code",
      "metadata": {
        "colab": {
          "base_uri": "https://localhost:8080/",
          "height": 434
        },
        "id": "_ARYpHPpybTK",
        "outputId": "8de13202-64a3-4eda-8464-384895958714"
      },
      "source": [
        "df.head()     #Top 5 rows"
      ],
      "execution_count": null,
      "outputs": [
        {
          "output_type": "execute_result",
          "data": {
            "text/html": [
              "<div>\n",
              "<style scoped>\n",
              "    .dataframe tbody tr th:only-of-type {\n",
              "        vertical-align: middle;\n",
              "    }\n",
              "\n",
              "    .dataframe tbody tr th {\n",
              "        vertical-align: top;\n",
              "    }\n",
              "\n",
              "    .dataframe thead th {\n",
              "        text-align: right;\n",
              "    }\n",
              "</style>\n",
              "<table border=\"1\" class=\"dataframe\">\n",
              "  <thead>\n",
              "    <tr style=\"text-align: right;\">\n",
              "      <th></th>\n",
              "      <th>id</th>\n",
              "      <th>season</th>\n",
              "      <th>city</th>\n",
              "      <th>date</th>\n",
              "      <th>team1</th>\n",
              "      <th>team2</th>\n",
              "      <th>toss_winner</th>\n",
              "      <th>toss_decision</th>\n",
              "      <th>result</th>\n",
              "      <th>dl_applied</th>\n",
              "      <th>winner</th>\n",
              "      <th>win_by_runs</th>\n",
              "      <th>win_by_wickets</th>\n",
              "      <th>player_of_match</th>\n",
              "      <th>venue</th>\n",
              "      <th>umpire1</th>\n",
              "      <th>umpire2</th>\n",
              "      <th>umpire3</th>\n",
              "    </tr>\n",
              "  </thead>\n",
              "  <tbody>\n",
              "    <tr>\n",
              "      <th>0</th>\n",
              "      <td>1</td>\n",
              "      <td>2017</td>\n",
              "      <td>Hyderabad</td>\n",
              "      <td>2017-04-05</td>\n",
              "      <td>Sunrisers Hyderabad</td>\n",
              "      <td>Royal Challengers Bangalore</td>\n",
              "      <td>Royal Challengers Bangalore</td>\n",
              "      <td>field</td>\n",
              "      <td>normal</td>\n",
              "      <td>0</td>\n",
              "      <td>Sunrisers Hyderabad</td>\n",
              "      <td>35</td>\n",
              "      <td>0</td>\n",
              "      <td>Yuvraj Singh</td>\n",
              "      <td>Rajiv Gandhi International Stadium, Uppal</td>\n",
              "      <td>AY Dandekar</td>\n",
              "      <td>NJ Llong</td>\n",
              "      <td>NaN</td>\n",
              "    </tr>\n",
              "    <tr>\n",
              "      <th>1</th>\n",
              "      <td>2</td>\n",
              "      <td>2017</td>\n",
              "      <td>Pune</td>\n",
              "      <td>2017-04-06</td>\n",
              "      <td>Mumbai Indians</td>\n",
              "      <td>Rising Pune Supergiant</td>\n",
              "      <td>Rising Pune Supergiant</td>\n",
              "      <td>field</td>\n",
              "      <td>normal</td>\n",
              "      <td>0</td>\n",
              "      <td>Rising Pune Supergiant</td>\n",
              "      <td>0</td>\n",
              "      <td>7</td>\n",
              "      <td>SPD Smith</td>\n",
              "      <td>Maharashtra Cricket Association Stadium</td>\n",
              "      <td>A Nand Kishore</td>\n",
              "      <td>S Ravi</td>\n",
              "      <td>NaN</td>\n",
              "    </tr>\n",
              "    <tr>\n",
              "      <th>2</th>\n",
              "      <td>3</td>\n",
              "      <td>2017</td>\n",
              "      <td>Rajkot</td>\n",
              "      <td>2017-04-07</td>\n",
              "      <td>Gujarat Lions</td>\n",
              "      <td>Kolkata Knight Riders</td>\n",
              "      <td>Kolkata Knight Riders</td>\n",
              "      <td>field</td>\n",
              "      <td>normal</td>\n",
              "      <td>0</td>\n",
              "      <td>Kolkata Knight Riders</td>\n",
              "      <td>0</td>\n",
              "      <td>10</td>\n",
              "      <td>CA Lynn</td>\n",
              "      <td>Saurashtra Cricket Association Stadium</td>\n",
              "      <td>Nitin Menon</td>\n",
              "      <td>CK Nandan</td>\n",
              "      <td>NaN</td>\n",
              "    </tr>\n",
              "    <tr>\n",
              "      <th>3</th>\n",
              "      <td>4</td>\n",
              "      <td>2017</td>\n",
              "      <td>Indore</td>\n",
              "      <td>2017-04-08</td>\n",
              "      <td>Rising Pune Supergiant</td>\n",
              "      <td>Kings XI Punjab</td>\n",
              "      <td>Kings XI Punjab</td>\n",
              "      <td>field</td>\n",
              "      <td>normal</td>\n",
              "      <td>0</td>\n",
              "      <td>Kings XI Punjab</td>\n",
              "      <td>0</td>\n",
              "      <td>6</td>\n",
              "      <td>GJ Maxwell</td>\n",
              "      <td>Holkar Cricket Stadium</td>\n",
              "      <td>AK Chaudhary</td>\n",
              "      <td>C Shamshuddin</td>\n",
              "      <td>NaN</td>\n",
              "    </tr>\n",
              "    <tr>\n",
              "      <th>4</th>\n",
              "      <td>5</td>\n",
              "      <td>2017</td>\n",
              "      <td>Bangalore</td>\n",
              "      <td>2017-04-08</td>\n",
              "      <td>Royal Challengers Bangalore</td>\n",
              "      <td>Delhi Daredevils</td>\n",
              "      <td>Royal Challengers Bangalore</td>\n",
              "      <td>bat</td>\n",
              "      <td>normal</td>\n",
              "      <td>0</td>\n",
              "      <td>Royal Challengers Bangalore</td>\n",
              "      <td>15</td>\n",
              "      <td>0</td>\n",
              "      <td>KM Jadhav</td>\n",
              "      <td>M Chinnaswamy Stadium</td>\n",
              "      <td>NaN</td>\n",
              "      <td>NaN</td>\n",
              "      <td>NaN</td>\n",
              "    </tr>\n",
              "  </tbody>\n",
              "</table>\n",
              "</div>"
            ],
            "text/plain": [
              "   id  season       city  ...         umpire1        umpire2 umpire3\n",
              "0   1    2017  Hyderabad  ...     AY Dandekar       NJ Llong     NaN\n",
              "1   2    2017       Pune  ...  A Nand Kishore         S Ravi     NaN\n",
              "2   3    2017     Rajkot  ...     Nitin Menon      CK Nandan     NaN\n",
              "3   4    2017     Indore  ...    AK Chaudhary  C Shamshuddin     NaN\n",
              "4   5    2017  Bangalore  ...             NaN            NaN     NaN\n",
              "\n",
              "[5 rows x 18 columns]"
            ]
          },
          "metadata": {
            "tags": []
          },
          "execution_count": 49
        }
      ]
    },
    {
      "cell_type": "code",
      "metadata": {
        "colab": {
          "base_uri": "https://localhost:8080/",
          "height": 366
        },
        "id": "B4qS0iwJufMF",
        "outputId": "ae819bc3-175f-4998-eb0d-d4abdd44202f"
      },
      "source": [
        "df.tail()        #Last 5 rows"
      ],
      "execution_count": null,
      "outputs": [
        {
          "output_type": "execute_result",
          "data": {
            "text/html": [
              "<div>\n",
              "<style scoped>\n",
              "    .dataframe tbody tr th:only-of-type {\n",
              "        vertical-align: middle;\n",
              "    }\n",
              "\n",
              "    .dataframe tbody tr th {\n",
              "        vertical-align: top;\n",
              "    }\n",
              "\n",
              "    .dataframe thead th {\n",
              "        text-align: right;\n",
              "    }\n",
              "</style>\n",
              "<table border=\"1\" class=\"dataframe\">\n",
              "  <thead>\n",
              "    <tr style=\"text-align: right;\">\n",
              "      <th></th>\n",
              "      <th>id</th>\n",
              "      <th>season</th>\n",
              "      <th>city</th>\n",
              "      <th>date</th>\n",
              "      <th>team1</th>\n",
              "      <th>team2</th>\n",
              "      <th>toss_winner</th>\n",
              "      <th>toss_decision</th>\n",
              "      <th>result</th>\n",
              "      <th>dl_applied</th>\n",
              "      <th>winner</th>\n",
              "      <th>win_by_runs</th>\n",
              "      <th>win_by_wickets</th>\n",
              "      <th>player_of_match</th>\n",
              "      <th>venue</th>\n",
              "      <th>umpire1</th>\n",
              "      <th>umpire2</th>\n",
              "      <th>umpire3</th>\n",
              "    </tr>\n",
              "  </thead>\n",
              "  <tbody>\n",
              "    <tr>\n",
              "      <th>751</th>\n",
              "      <td>11347</td>\n",
              "      <td>2019</td>\n",
              "      <td>Mumbai</td>\n",
              "      <td>05/05/19</td>\n",
              "      <td>Kolkata Knight Riders</td>\n",
              "      <td>Mumbai Indians</td>\n",
              "      <td>Mumbai Indians</td>\n",
              "      <td>field</td>\n",
              "      <td>normal</td>\n",
              "      <td>0</td>\n",
              "      <td>Mumbai Indians</td>\n",
              "      <td>0</td>\n",
              "      <td>9</td>\n",
              "      <td>HH Pandya</td>\n",
              "      <td>Wankhede Stadium</td>\n",
              "      <td>Nanda Kishore</td>\n",
              "      <td>O Nandan</td>\n",
              "      <td>S Ravi</td>\n",
              "    </tr>\n",
              "    <tr>\n",
              "      <th>752</th>\n",
              "      <td>11412</td>\n",
              "      <td>2019</td>\n",
              "      <td>Chennai</td>\n",
              "      <td>07/05/19</td>\n",
              "      <td>Chennai Super Kings</td>\n",
              "      <td>Mumbai Indians</td>\n",
              "      <td>Chennai Super Kings</td>\n",
              "      <td>bat</td>\n",
              "      <td>normal</td>\n",
              "      <td>0</td>\n",
              "      <td>Mumbai Indians</td>\n",
              "      <td>0</td>\n",
              "      <td>6</td>\n",
              "      <td>AS Yadav</td>\n",
              "      <td>M. A. Chidambaram Stadium</td>\n",
              "      <td>Nigel Llong</td>\n",
              "      <td>Nitin Menon</td>\n",
              "      <td>Ian Gould</td>\n",
              "    </tr>\n",
              "    <tr>\n",
              "      <th>753</th>\n",
              "      <td>11413</td>\n",
              "      <td>2019</td>\n",
              "      <td>Visakhapatnam</td>\n",
              "      <td>08/05/19</td>\n",
              "      <td>Sunrisers Hyderabad</td>\n",
              "      <td>Delhi Capitals</td>\n",
              "      <td>Delhi Capitals</td>\n",
              "      <td>field</td>\n",
              "      <td>normal</td>\n",
              "      <td>0</td>\n",
              "      <td>Delhi Capitals</td>\n",
              "      <td>0</td>\n",
              "      <td>2</td>\n",
              "      <td>RR Pant</td>\n",
              "      <td>ACA-VDCA Stadium</td>\n",
              "      <td>NaN</td>\n",
              "      <td>NaN</td>\n",
              "      <td>NaN</td>\n",
              "    </tr>\n",
              "    <tr>\n",
              "      <th>754</th>\n",
              "      <td>11414</td>\n",
              "      <td>2019</td>\n",
              "      <td>Visakhapatnam</td>\n",
              "      <td>10/05/19</td>\n",
              "      <td>Delhi Capitals</td>\n",
              "      <td>Chennai Super Kings</td>\n",
              "      <td>Chennai Super Kings</td>\n",
              "      <td>field</td>\n",
              "      <td>normal</td>\n",
              "      <td>0</td>\n",
              "      <td>Chennai Super Kings</td>\n",
              "      <td>0</td>\n",
              "      <td>6</td>\n",
              "      <td>F du Plessis</td>\n",
              "      <td>ACA-VDCA Stadium</td>\n",
              "      <td>Sundaram Ravi</td>\n",
              "      <td>Bruce Oxenford</td>\n",
              "      <td>Chettithody Shamshuddin</td>\n",
              "    </tr>\n",
              "    <tr>\n",
              "      <th>755</th>\n",
              "      <td>11415</td>\n",
              "      <td>2019</td>\n",
              "      <td>Hyderabad</td>\n",
              "      <td>12/05/19</td>\n",
              "      <td>Mumbai Indians</td>\n",
              "      <td>Chennai Super Kings</td>\n",
              "      <td>Mumbai Indians</td>\n",
              "      <td>bat</td>\n",
              "      <td>normal</td>\n",
              "      <td>0</td>\n",
              "      <td>Mumbai Indians</td>\n",
              "      <td>1</td>\n",
              "      <td>0</td>\n",
              "      <td>JJ Bumrah</td>\n",
              "      <td>Rajiv Gandhi Intl. Cricket Stadium</td>\n",
              "      <td>Nitin Menon</td>\n",
              "      <td>Ian Gould</td>\n",
              "      <td>Nigel Llong</td>\n",
              "    </tr>\n",
              "  </tbody>\n",
              "</table>\n",
              "</div>"
            ],
            "text/plain": [
              "        id  season  ...         umpire2                  umpire3\n",
              "751  11347    2019  ...        O Nandan                   S Ravi\n",
              "752  11412    2019  ...     Nitin Menon                Ian Gould\n",
              "753  11413    2019  ...             NaN                      NaN\n",
              "754  11414    2019  ...  Bruce Oxenford  Chettithody Shamshuddin\n",
              "755  11415    2019  ...       Ian Gould              Nigel Llong\n",
              "\n",
              "[5 rows x 18 columns]"
            ]
          },
          "metadata": {
            "tags": []
          },
          "execution_count": 5
        }
      ]
    },
    {
      "cell_type": "code",
      "metadata": {
        "colab": {
          "base_uri": "https://localhost:8080/"
        },
        "id": "xK-APW_lukwO",
        "outputId": "0ccb96cc-a9e9-45d8-e057-0b6c66a5d25a"
      },
      "source": [
        "df.info()     #Dataset info"
      ],
      "execution_count": null,
      "outputs": [
        {
          "output_type": "stream",
          "text": [
            "<class 'pandas.core.frame.DataFrame'>\n",
            "RangeIndex: 756 entries, 0 to 755\n",
            "Data columns (total 18 columns):\n",
            " #   Column           Non-Null Count  Dtype \n",
            "---  ------           --------------  ----- \n",
            " 0   id               756 non-null    int64 \n",
            " 1   season           756 non-null    int64 \n",
            " 2   city             749 non-null    object\n",
            " 3   date             756 non-null    object\n",
            " 4   team1            756 non-null    object\n",
            " 5   team2            756 non-null    object\n",
            " 6   toss_winner      756 non-null    object\n",
            " 7   toss_decision    756 non-null    object\n",
            " 8   result           756 non-null    object\n",
            " 9   dl_applied       756 non-null    int64 \n",
            " 10  winner           752 non-null    object\n",
            " 11  win_by_runs      756 non-null    int64 \n",
            " 12  win_by_wickets   756 non-null    int64 \n",
            " 13  player_of_match  752 non-null    object\n",
            " 14  venue            756 non-null    object\n",
            " 15  umpire1          754 non-null    object\n",
            " 16  umpire2          754 non-null    object\n",
            " 17  umpire3          119 non-null    object\n",
            "dtypes: int64(5), object(13)\n",
            "memory usage: 106.4+ KB\n"
          ],
          "name": "stdout"
        }
      ]
    },
    {
      "cell_type": "code",
      "metadata": {
        "colab": {
          "base_uri": "https://localhost:8080/"
        },
        "id": "buqdjkOiuuCv",
        "outputId": "d1278c73-7724-477a-87f3-5d9d8f795482"
      },
      "source": [
        "df.shape    #Dataset shape(rows,columns)"
      ],
      "execution_count": null,
      "outputs": [
        {
          "output_type": "execute_result",
          "data": {
            "text/plain": [
              "(756, 18)"
            ]
          },
          "metadata": {
            "tags": []
          },
          "execution_count": 7
        }
      ]
    },
    {
      "cell_type": "code",
      "metadata": {
        "colab": {
          "base_uri": "https://localhost:8080/",
          "height": 284
        },
        "id": "fNcyrX2suwyI",
        "outputId": "a5175463-7a3f-4594-d377-69fa32bedc5d"
      },
      "source": [
        "df.describe()   #Statistical description"
      ],
      "execution_count": null,
      "outputs": [
        {
          "output_type": "execute_result",
          "data": {
            "text/html": [
              "<div>\n",
              "<style scoped>\n",
              "    .dataframe tbody tr th:only-of-type {\n",
              "        vertical-align: middle;\n",
              "    }\n",
              "\n",
              "    .dataframe tbody tr th {\n",
              "        vertical-align: top;\n",
              "    }\n",
              "\n",
              "    .dataframe thead th {\n",
              "        text-align: right;\n",
              "    }\n",
              "</style>\n",
              "<table border=\"1\" class=\"dataframe\">\n",
              "  <thead>\n",
              "    <tr style=\"text-align: right;\">\n",
              "      <th></th>\n",
              "      <th>id</th>\n",
              "      <th>season</th>\n",
              "      <th>dl_applied</th>\n",
              "      <th>win_by_runs</th>\n",
              "      <th>win_by_wickets</th>\n",
              "    </tr>\n",
              "  </thead>\n",
              "  <tbody>\n",
              "    <tr>\n",
              "      <th>count</th>\n",
              "      <td>756.000000</td>\n",
              "      <td>756.000000</td>\n",
              "      <td>756.000000</td>\n",
              "      <td>756.000000</td>\n",
              "      <td>756.000000</td>\n",
              "    </tr>\n",
              "    <tr>\n",
              "      <th>mean</th>\n",
              "      <td>1792.178571</td>\n",
              "      <td>2013.444444</td>\n",
              "      <td>0.025132</td>\n",
              "      <td>13.283069</td>\n",
              "      <td>3.350529</td>\n",
              "    </tr>\n",
              "    <tr>\n",
              "      <th>std</th>\n",
              "      <td>3464.478148</td>\n",
              "      <td>3.366895</td>\n",
              "      <td>0.156630</td>\n",
              "      <td>23.471144</td>\n",
              "      <td>3.387963</td>\n",
              "    </tr>\n",
              "    <tr>\n",
              "      <th>min</th>\n",
              "      <td>1.000000</td>\n",
              "      <td>2008.000000</td>\n",
              "      <td>0.000000</td>\n",
              "      <td>0.000000</td>\n",
              "      <td>0.000000</td>\n",
              "    </tr>\n",
              "    <tr>\n",
              "      <th>25%</th>\n",
              "      <td>189.750000</td>\n",
              "      <td>2011.000000</td>\n",
              "      <td>0.000000</td>\n",
              "      <td>0.000000</td>\n",
              "      <td>0.000000</td>\n",
              "    </tr>\n",
              "    <tr>\n",
              "      <th>50%</th>\n",
              "      <td>378.500000</td>\n",
              "      <td>2013.000000</td>\n",
              "      <td>0.000000</td>\n",
              "      <td>0.000000</td>\n",
              "      <td>4.000000</td>\n",
              "    </tr>\n",
              "    <tr>\n",
              "      <th>75%</th>\n",
              "      <td>567.250000</td>\n",
              "      <td>2016.000000</td>\n",
              "      <td>0.000000</td>\n",
              "      <td>19.000000</td>\n",
              "      <td>6.000000</td>\n",
              "    </tr>\n",
              "    <tr>\n",
              "      <th>max</th>\n",
              "      <td>11415.000000</td>\n",
              "      <td>2019.000000</td>\n",
              "      <td>1.000000</td>\n",
              "      <td>146.000000</td>\n",
              "      <td>10.000000</td>\n",
              "    </tr>\n",
              "  </tbody>\n",
              "</table>\n",
              "</div>"
            ],
            "text/plain": [
              "                 id       season  dl_applied  win_by_runs  win_by_wickets\n",
              "count    756.000000   756.000000  756.000000   756.000000      756.000000\n",
              "mean    1792.178571  2013.444444    0.025132    13.283069        3.350529\n",
              "std     3464.478148     3.366895    0.156630    23.471144        3.387963\n",
              "min        1.000000  2008.000000    0.000000     0.000000        0.000000\n",
              "25%      189.750000  2011.000000    0.000000     0.000000        0.000000\n",
              "50%      378.500000  2013.000000    0.000000     0.000000        4.000000\n",
              "75%      567.250000  2016.000000    0.000000    19.000000        6.000000\n",
              "max    11415.000000  2019.000000    1.000000   146.000000       10.000000"
            ]
          },
          "metadata": {
            "tags": []
          },
          "execution_count": 8
        }
      ]
    },
    {
      "cell_type": "code",
      "metadata": {
        "colab": {
          "base_uri": "https://localhost:8080/"
        },
        "id": "m1WkGkBFuyn3",
        "outputId": "c7f3df15-0f9d-4390-f778-8dab158e963c"
      },
      "source": [
        "df.nunique()       #Number of distinct observations"
      ],
      "execution_count": null,
      "outputs": [
        {
          "output_type": "execute_result",
          "data": {
            "text/plain": [
              "id                 756\n",
              "season              12\n",
              "city                32\n",
              "date               546\n",
              "team1               15\n",
              "team2               15\n",
              "toss_winner         15\n",
              "toss_decision        2\n",
              "result               3\n",
              "dl_applied           2\n",
              "winner              15\n",
              "win_by_runs         89\n",
              "win_by_wickets      11\n",
              "player_of_match    226\n",
              "venue               41\n",
              "umpire1             61\n",
              "umpire2             65\n",
              "umpire3             25\n",
              "dtype: int64"
            ]
          },
          "metadata": {
            "tags": []
          },
          "execution_count": 9
        }
      ]
    },
    {
      "cell_type": "code",
      "metadata": {
        "colab": {
          "base_uri": "https://localhost:8080/"
        },
        "id": "5eJ_EvmjuzyT",
        "outputId": "ffb8f981-bf52-4a59-d210-357a8acf104d"
      },
      "source": [
        "df.isnull().sum()     #Sum of null values"
      ],
      "execution_count": null,
      "outputs": [
        {
          "output_type": "execute_result",
          "data": {
            "text/plain": [
              "id                   0\n",
              "season               0\n",
              "city                 7\n",
              "date                 0\n",
              "team1                0\n",
              "team2                0\n",
              "toss_winner          0\n",
              "toss_decision        0\n",
              "result               0\n",
              "dl_applied           0\n",
              "winner               4\n",
              "win_by_runs          0\n",
              "win_by_wickets       0\n",
              "player_of_match      4\n",
              "venue                0\n",
              "umpire1              2\n",
              "umpire2              2\n",
              "umpire3            637\n",
              "dtype: int64"
            ]
          },
          "metadata": {
            "tags": []
          },
          "execution_count": 10
        }
      ]
    },
    {
      "cell_type": "code",
      "metadata": {
        "colab": {
          "base_uri": "https://localhost:8080/"
        },
        "id": "VKdvtvyZvCOv",
        "outputId": "fc074a08-340f-4702-ad1d-49f59090238a"
      },
      "source": [
        "df['player_of_match'].value_counts()"
      ],
      "execution_count": null,
      "outputs": [
        {
          "output_type": "execute_result",
          "data": {
            "text/plain": [
              "CH Gayle           21\n",
              "AB de Villiers     20\n",
              "RG Sharma          17\n",
              "MS Dhoni           17\n",
              "DA Warner          17\n",
              "                   ..\n",
              "KMDN Kulasekara     1\n",
              "J Botha             1\n",
              "GD McGrath          1\n",
              "SB Jakati           1\n",
              "A Singh             1\n",
              "Name: player_of_match, Length: 226, dtype: int64"
            ]
          },
          "metadata": {
            "tags": []
          },
          "execution_count": 11
        }
      ]
    },
    {
      "cell_type": "code",
      "metadata": {
        "colab": {
          "base_uri": "https://localhost:8080/"
        },
        "id": "gnCsC95_u1gD",
        "outputId": "b7b1ff40-94a2-4c47-a551-a0398555de29"
      },
      "source": [
        "df['player_of_match'].value_counts()[0:5]   #Top 5 players"
      ],
      "execution_count": null,
      "outputs": [
        {
          "output_type": "execute_result",
          "data": {
            "text/plain": [
              "CH Gayle          21\n",
              "AB de Villiers    20\n",
              "RG Sharma         17\n",
              "MS Dhoni          17\n",
              "DA Warner         17\n",
              "Name: player_of_match, dtype: int64"
            ]
          },
          "metadata": {
            "tags": []
          },
          "execution_count": 12
        }
      ]
    },
    {
      "cell_type": "code",
      "metadata": {
        "colab": {
          "base_uri": "https://localhost:8080/"
        },
        "id": "3qmNBPpfvFXE",
        "outputId": "aba74115-24f2-4a85-bcc9-923f8a73d4e6"
      },
      "source": [
        "list(df['player_of_match'].value_counts().keys())  #Names of players"
      ],
      "execution_count": null,
      "outputs": [
        {
          "output_type": "execute_result",
          "data": {
            "text/plain": [
              "['CH Gayle',\n",
              " 'AB de Villiers',\n",
              " 'RG Sharma',\n",
              " 'MS Dhoni',\n",
              " 'DA Warner',\n",
              " 'YK Pathan',\n",
              " 'SR Watson',\n",
              " 'SK Raina',\n",
              " 'G Gambhir',\n",
              " 'AM Rahane',\n",
              " 'V Kohli',\n",
              " 'MEK Hussey',\n",
              " 'DR Smith',\n",
              " 'A Mishra',\n",
              " 'AD Russell',\n",
              " 'V Sehwag',\n",
              " 'JH Kallis',\n",
              " 'KA Pollard',\n",
              " 'SE Marsh',\n",
              " 'SP Narine',\n",
              " 'AT Rayudu',\n",
              " 'SR Tendulkar',\n",
              " 'RA Jadeja',\n",
              " 'UT Yadav',\n",
              " 'Harbhajan Singh',\n",
              " 'RV Uthappa',\n",
              " 'Rashid Khan',\n",
              " 'AC Gilchrist',\n",
              " 'A Nehra',\n",
              " 'SL Malinga',\n",
              " 'BJ Hodge',\n",
              " 'HH Pandya',\n",
              " 'M Vijay',\n",
              " 'S Dhawan',\n",
              " 'RR Pant',\n",
              " 'BB McCullum',\n",
              " 'JP Faulkner',\n",
              " 'Yuvraj Singh',\n",
              " 'DW Steyn',\n",
              " 'KC Sangakkara',\n",
              " 'SV Samson',\n",
              " 'Sandeep Sharma',\n",
              " 'JC Buttler',\n",
              " 'SPD Smith',\n",
              " 'JJ Bumrah',\n",
              " 'DPMD Jayawardene',\n",
              " 'GJ Maxwell',\n",
              " 'B Kumar',\n",
              " 'PA Patel',\n",
              " 'JD Unadkat',\n",
              " 'AJ Finch',\n",
              " 'SC Ganguly',\n",
              " 'F du Plessis',\n",
              " 'KH Pandya',\n",
              " 'MK Pandey',\n",
              " 'CA Lynn',\n",
              " 'N Rana',\n",
              " 'NM Coulter-Nile',\n",
              " 'KL Rahul',\n",
              " 'JP Duminy',\n",
              " 'KD Karthik',\n",
              " 'SK Warne',\n",
              " 'SS Iyer',\n",
              " 'AR Patel',\n",
              " 'ML Hayden',\n",
              " 'BA Stokes',\n",
              " 'A Kumble',\n",
              " 'Mandeep Singh',\n",
              " 'MK Tiwary',\n",
              " 'LRPL Taylor',\n",
              " 'L Balaji',\n",
              " 'LMP Simmons',\n",
              " 'R Vinay Kumar',\n",
              " 'DJ Bravo',\n",
              " 'PP Chawla',\n",
              " 'WP Saha',\n",
              " 'A Symonds',\n",
              " 'DA Miller',\n",
              " 'KK Nair',\n",
              " 'KS Williamson',\n",
              " 'M Vohra',\n",
              " 'KP Pietersen',\n",
              " 'CJ Anderson',\n",
              " 'HV Patel',\n",
              " 'MM Patel',\n",
              " 'Harmeet Singh',\n",
              " 'KM Jadhav',\n",
              " 'AS Yadav',\n",
              " 'JA Morkel',\n",
              " 'SM Pollock',\n",
              " 'AB Dinda',\n",
              " 'R Ashwin',\n",
              " 'M Morkel',\n",
              " 'MV Boucher',\n",
              " 'R Dravid',\n",
              " 'MG Johnson',\n",
              " 'MC Henriques',\n",
              " 'IK Pathan',\n",
              " 'I Sharma',\n",
              " 'M Muralitharan',\n",
              " 'Shakib Al Hasan',\n",
              " 'MJ McClenaghan',\n",
              " 'BW Hilfenhaus',\n",
              " 'Iqbal Abdulla',\n",
              " 'VR Aaron',\n",
              " 'SK Trivedi',\n",
              " 'DJ Hussey',\n",
              " 'P Negi',\n",
              " 'MA Agarwal',\n",
              " 'S Gopal',\n",
              " 'GC Smith',\n",
              " 'M Ntini',\n",
              " 'ST Jayasuriya',\n",
              " 'J Bairstow',\n",
              " 'R Sharma',\n",
              " 'Sohail Tanvir',\n",
              " 'MP Stoinis',\n",
              " 'HM Amla',\n",
              " 'GH Vihari',\n",
              " 'PC Valthaty',\n",
              " 'P Kumar',\n",
              " 'AS Rajpoot',\n",
              " 'B Lee',\n",
              " 'DE Bollinger',\n",
              " 'Azhar Mahmood',\n",
              " 'CH Morris',\n",
              " 'MM Sharma',\n",
              " 'AJ Tye',\n",
              " 'PV Tambe',\n",
              " 'RP Singh',\n",
              " 'DJ Hooda',\n",
              " 'S Badrinath',\n",
              " 'JEC Franklin',\n",
              " 'SM Katich',\n",
              " 'JDP Oram',\n",
              " 'MR Marsh',\n",
              " 'AD Mathews',\n",
              " 'Imran Tahir',\n",
              " 'PD Collingwood',\n",
              " 'LJ Wright',\n",
              " 'JJ Roy',\n",
              " 'DL Chahar',\n",
              " 'Mohammed Shami',\n",
              " 'SA Asnodkar',\n",
              " 'S Gill',\n",
              " 'AA Jhunjhunwala',\n",
              " 'S Curran',\n",
              " 'AC Voges',\n",
              " 'SW Billings',\n",
              " 'MF Maharoof',\n",
              " 'TM Dilshan',\n",
              " 'Z Khan',\n",
              " 'A Zampa',\n",
              " 'K Rabada',\n",
              " 'MJ Lumb',\n",
              " 'KV Sharma',\n",
              " 'DJG Sammy',\n",
              " 'CR Brathwaite',\n",
              " 'R Bhatia',\n",
              " 'SB Wagh',\n",
              " 'CL White',\n",
              " 'GJ Bailey',\n",
              " 'Q de Kock',\n",
              " 'WPUJC Vaas',\n",
              " 'S Anirudha',\n",
              " 'P Shaw',\n",
              " 'MS Gony',\n",
              " 'LH Ferguson',\n",
              " 'MS Bisla',\n",
              " 'SP Goswami',\n",
              " 'S Sreesanth',\n",
              " 'Kuldeep Yadav',\n",
              " 'AD Mascarenhas',\n",
              " 'DP Nannes',\n",
              " 'Mohammed Siraj',\n",
              " 'Shoaib Akhtar',\n",
              " 'HH Gibbs',\n",
              " 'A Joseph',\n",
              " 'H Gurney',\n",
              " 'R McLaren',\n",
              " 'BA Bhatt',\n",
              " 'KK Cooper',\n",
              " 'RE Levi',\n",
              " 'S Sohal',\n",
              " 'K Paul',\n",
              " 'Umar Gul',\n",
              " 'S Hetmyer',\n",
              " 'B Stanlake',\n",
              " 'A Chandila',\n",
              " 'RA Tripathi',\n",
              " 'M Kartik',\n",
              " 'TG Southee',\n",
              " 'DL Vettori',\n",
              " 'RS Bopara',\n",
              " 'L Ngidi',\n",
              " 'Washington Sundar',\n",
              " 'YS Chahal',\n",
              " 'AP Tare',\n",
              " 'K Ahmed',\n",
              " 'MN Samuels',\n",
              " 'J Archer',\n",
              " 'BCJ Cutting',\n",
              " 'Mustafizur Rahman',\n",
              " 'NV Ojha',\n",
              " 'PP Ojha',\n",
              " 'RJ Harris',\n",
              " 'TA Boult',\n",
              " 'MD Mishra',\n",
              " 'S Nadeem',\n",
              " 'CRD Fernando',\n",
              " 'EJG Morgan',\n",
              " 'LR Shukla',\n",
              " 'TL Suman',\n",
              " 'MA Starc',\n",
              " 'SA Yadav',\n",
              " 'S Aravind',\n",
              " 'Ishan Kishan',\n",
              " 'JD Ryder',\n",
              " 'M Ur Rahman',\n",
              " 'J Theron',\n",
              " 'P Parameswaran',\n",
              " 'KMDN Kulasekara',\n",
              " 'J Botha',\n",
              " 'GD McGrath',\n",
              " 'SB Jakati',\n",
              " 'A Singh']"
            ]
          },
          "metadata": {
            "tags": []
          },
          "execution_count": 13
        }
      ]
    },
    {
      "cell_type": "code",
      "metadata": {
        "colab": {
          "base_uri": "https://localhost:8080/"
        },
        "id": "-PTcaM8nvGuI",
        "outputId": "7c4490ae-3442-4a90-bd64-0723d78c184a"
      },
      "source": [
        "list(df['player_of_match'].value_counts()[0:5].keys())   #Top 5 players"
      ],
      "execution_count": null,
      "outputs": [
        {
          "output_type": "execute_result",
          "data": {
            "text/plain": [
              "['CH Gayle', 'AB de Villiers', 'RG Sharma', 'MS Dhoni', 'DA Warner']"
            ]
          },
          "metadata": {
            "tags": []
          },
          "execution_count": 14
        }
      ]
    },
    {
      "cell_type": "code",
      "metadata": {
        "colab": {
          "base_uri": "https://localhost:8080/"
        },
        "id": "htVxsjY_vJbJ",
        "outputId": "caa1e0c0-f86f-473d-fa96-a3e741e357e4"
      },
      "source": [
        "df['result'].value_counts()"
      ],
      "execution_count": null,
      "outputs": [
        {
          "output_type": "execute_result",
          "data": {
            "text/plain": [
              "normal       743\n",
              "tie            9\n",
              "no result      4\n",
              "Name: result, dtype: int64"
            ]
          },
          "metadata": {
            "tags": []
          },
          "execution_count": 15
        }
      ]
    },
    {
      "cell_type": "code",
      "metadata": {
        "colab": {
          "base_uri": "https://localhost:8080/"
        },
        "id": "AqoGivinvLAm",
        "outputId": "afc88663-0bd4-4582-bce1-e920d8f3a6c8"
      },
      "source": [
        "df['toss_winner'].value_counts()"
      ],
      "execution_count": null,
      "outputs": [
        {
          "output_type": "execute_result",
          "data": {
            "text/plain": [
              "Mumbai Indians                 98\n",
              "Kolkata Knight Riders          92\n",
              "Chennai Super Kings            89\n",
              "Kings XI Punjab                81\n",
              "Royal Challengers Bangalore    81\n",
              "Delhi Daredevils               80\n",
              "Rajasthan Royals               80\n",
              "Sunrisers Hyderabad            46\n",
              "Deccan Chargers                43\n",
              "Pune Warriors                  20\n",
              "Gujarat Lions                  15\n",
              "Delhi Capitals                 10\n",
              "Kochi Tuskers Kerala            8\n",
              "Rising Pune Supergiants         7\n",
              "Rising Pune Supergiant          6\n",
              "Name: toss_winner, dtype: int64"
            ]
          },
          "metadata": {
            "tags": []
          },
          "execution_count": 16
        }
      ]
    },
    {
      "cell_type": "code",
      "metadata": {
        "id": "QJVc16l_vN1w"
      },
      "source": [
        "batting_first=df[df['win_by_runs']!=0]"
      ],
      "execution_count": null,
      "outputs": []
    },
    {
      "cell_type": "code",
      "metadata": {
        "colab": {
          "base_uri": "https://localhost:8080/",
          "height": 400
        },
        "id": "1AWw_y-hvPaT",
        "outputId": "3649ee3e-a888-45e9-a593-49072a556ca0"
      },
      "source": [
        "batting_first.head()"
      ],
      "execution_count": null,
      "outputs": [
        {
          "output_type": "execute_result",
          "data": {
            "text/html": [
              "<div>\n",
              "<style scoped>\n",
              "    .dataframe tbody tr th:only-of-type {\n",
              "        vertical-align: middle;\n",
              "    }\n",
              "\n",
              "    .dataframe tbody tr th {\n",
              "        vertical-align: top;\n",
              "    }\n",
              "\n",
              "    .dataframe thead th {\n",
              "        text-align: right;\n",
              "    }\n",
              "</style>\n",
              "<table border=\"1\" class=\"dataframe\">\n",
              "  <thead>\n",
              "    <tr style=\"text-align: right;\">\n",
              "      <th></th>\n",
              "      <th>id</th>\n",
              "      <th>season</th>\n",
              "      <th>city</th>\n",
              "      <th>date</th>\n",
              "      <th>team1</th>\n",
              "      <th>team2</th>\n",
              "      <th>toss_winner</th>\n",
              "      <th>toss_decision</th>\n",
              "      <th>result</th>\n",
              "      <th>dl_applied</th>\n",
              "      <th>winner</th>\n",
              "      <th>win_by_runs</th>\n",
              "      <th>win_by_wickets</th>\n",
              "      <th>player_of_match</th>\n",
              "      <th>venue</th>\n",
              "      <th>umpire1</th>\n",
              "      <th>umpire2</th>\n",
              "      <th>umpire3</th>\n",
              "    </tr>\n",
              "  </thead>\n",
              "  <tbody>\n",
              "    <tr>\n",
              "      <th>0</th>\n",
              "      <td>1</td>\n",
              "      <td>2017</td>\n",
              "      <td>Hyderabad</td>\n",
              "      <td>2017-04-05</td>\n",
              "      <td>Sunrisers Hyderabad</td>\n",
              "      <td>Royal Challengers Bangalore</td>\n",
              "      <td>Royal Challengers Bangalore</td>\n",
              "      <td>field</td>\n",
              "      <td>normal</td>\n",
              "      <td>0</td>\n",
              "      <td>Sunrisers Hyderabad</td>\n",
              "      <td>35</td>\n",
              "      <td>0</td>\n",
              "      <td>Yuvraj Singh</td>\n",
              "      <td>Rajiv Gandhi International Stadium, Uppal</td>\n",
              "      <td>AY Dandekar</td>\n",
              "      <td>NJ Llong</td>\n",
              "      <td>NaN</td>\n",
              "    </tr>\n",
              "    <tr>\n",
              "      <th>4</th>\n",
              "      <td>5</td>\n",
              "      <td>2017</td>\n",
              "      <td>Bangalore</td>\n",
              "      <td>2017-04-08</td>\n",
              "      <td>Royal Challengers Bangalore</td>\n",
              "      <td>Delhi Daredevils</td>\n",
              "      <td>Royal Challengers Bangalore</td>\n",
              "      <td>bat</td>\n",
              "      <td>normal</td>\n",
              "      <td>0</td>\n",
              "      <td>Royal Challengers Bangalore</td>\n",
              "      <td>15</td>\n",
              "      <td>0</td>\n",
              "      <td>KM Jadhav</td>\n",
              "      <td>M Chinnaswamy Stadium</td>\n",
              "      <td>NaN</td>\n",
              "      <td>NaN</td>\n",
              "      <td>NaN</td>\n",
              "    </tr>\n",
              "    <tr>\n",
              "      <th>8</th>\n",
              "      <td>9</td>\n",
              "      <td>2017</td>\n",
              "      <td>Pune</td>\n",
              "      <td>2017-04-11</td>\n",
              "      <td>Delhi Daredevils</td>\n",
              "      <td>Rising Pune Supergiant</td>\n",
              "      <td>Rising Pune Supergiant</td>\n",
              "      <td>field</td>\n",
              "      <td>normal</td>\n",
              "      <td>0</td>\n",
              "      <td>Delhi Daredevils</td>\n",
              "      <td>97</td>\n",
              "      <td>0</td>\n",
              "      <td>SV Samson</td>\n",
              "      <td>Maharashtra Cricket Association Stadium</td>\n",
              "      <td>AY Dandekar</td>\n",
              "      <td>S Ravi</td>\n",
              "      <td>NaN</td>\n",
              "    </tr>\n",
              "    <tr>\n",
              "      <th>13</th>\n",
              "      <td>14</td>\n",
              "      <td>2017</td>\n",
              "      <td>Kolkata</td>\n",
              "      <td>2017-04-15</td>\n",
              "      <td>Kolkata Knight Riders</td>\n",
              "      <td>Sunrisers Hyderabad</td>\n",
              "      <td>Sunrisers Hyderabad</td>\n",
              "      <td>field</td>\n",
              "      <td>normal</td>\n",
              "      <td>0</td>\n",
              "      <td>Kolkata Knight Riders</td>\n",
              "      <td>17</td>\n",
              "      <td>0</td>\n",
              "      <td>RV Uthappa</td>\n",
              "      <td>Eden Gardens</td>\n",
              "      <td>AY Dandekar</td>\n",
              "      <td>NJ Llong</td>\n",
              "      <td>NaN</td>\n",
              "    </tr>\n",
              "    <tr>\n",
              "      <th>14</th>\n",
              "      <td>15</td>\n",
              "      <td>2017</td>\n",
              "      <td>Delhi</td>\n",
              "      <td>2017-04-15</td>\n",
              "      <td>Delhi Daredevils</td>\n",
              "      <td>Kings XI Punjab</td>\n",
              "      <td>Delhi Daredevils</td>\n",
              "      <td>bat</td>\n",
              "      <td>normal</td>\n",
              "      <td>0</td>\n",
              "      <td>Delhi Daredevils</td>\n",
              "      <td>51</td>\n",
              "      <td>0</td>\n",
              "      <td>CJ Anderson</td>\n",
              "      <td>Feroz Shah Kotla</td>\n",
              "      <td>YC Barde</td>\n",
              "      <td>Nitin Menon</td>\n",
              "      <td>NaN</td>\n",
              "    </tr>\n",
              "  </tbody>\n",
              "</table>\n",
              "</div>"
            ],
            "text/plain": [
              "    id  season       city  ...      umpire1      umpire2 umpire3\n",
              "0    1    2017  Hyderabad  ...  AY Dandekar     NJ Llong     NaN\n",
              "4    5    2017  Bangalore  ...          NaN          NaN     NaN\n",
              "8    9    2017       Pune  ...  AY Dandekar       S Ravi     NaN\n",
              "13  14    2017    Kolkata  ...  AY Dandekar     NJ Llong     NaN\n",
              "14  15    2017      Delhi  ...     YC Barde  Nitin Menon     NaN\n",
              "\n",
              "[5 rows x 18 columns]"
            ]
          },
          "metadata": {
            "tags": []
          },
          "execution_count": 18
        }
      ]
    },
    {
      "cell_type": "code",
      "metadata": {
        "colab": {
          "base_uri": "https://localhost:8080/"
        },
        "id": "n-VLYc2mvRhc",
        "outputId": "c3d6d797-0adf-4baf-e956-d3ef68825bc4"
      },
      "source": [
        "df['id'].max()"
      ],
      "execution_count": null,
      "outputs": [
        {
          "output_type": "execute_result",
          "data": {
            "text/plain": [
              "11415"
            ]
          },
          "metadata": {
            "tags": []
          },
          "execution_count": 19
        }
      ]
    },
    {
      "cell_type": "code",
      "metadata": {
        "colab": {
          "base_uri": "https://localhost:8080/"
        },
        "id": "wbRsDiyZvUKF",
        "outputId": "4edddf76-3b0c-42f5-d9d8-caca315339b7"
      },
      "source": [
        "df['season'].unique()     #Years matches were played"
      ],
      "execution_count": null,
      "outputs": [
        {
          "output_type": "execute_result",
          "data": {
            "text/plain": [
              "array([2017, 2008, 2009, 2010, 2011, 2012, 2013, 2014, 2015, 2016, 2018,\n",
              "       2019])"
            ]
          },
          "metadata": {
            "tags": []
          },
          "execution_count": 20
        }
      ]
    },
    {
      "cell_type": "code",
      "metadata": {
        "colab": {
          "base_uri": "https://localhost:8080/"
        },
        "id": "BO-_SlTqvVXp",
        "outputId": "6b1aaa0b-5dfb-4821-8927-71a756b67f18"
      },
      "source": [
        "len(df['season'].unique())"
      ],
      "execution_count": null,
      "outputs": [
        {
          "output_type": "execute_result",
          "data": {
            "text/plain": [
              "12"
            ]
          },
          "metadata": {
            "tags": []
          },
          "execution_count": 21
        }
      ]
    },
    {
      "cell_type": "code",
      "metadata": {
        "colab": {
          "base_uri": "https://localhost:8080/"
        },
        "id": "A4MAKr09vW4K",
        "outputId": "f3b1df06-5402-498d-9b14-f1cbb4762597"
      },
      "source": [
        "df.iloc[df['win_by_runs'].idxmax()]"
      ],
      "execution_count": null,
      "outputs": [
        {
          "output_type": "execute_result",
          "data": {
            "text/plain": [
              "id                               44\n",
              "season                         2017\n",
              "city                          Delhi\n",
              "date                     2017-05-06\n",
              "team1                Mumbai Indians\n",
              "team2              Delhi Daredevils\n",
              "toss_winner        Delhi Daredevils\n",
              "toss_decision                 field\n",
              "result                       normal\n",
              "dl_applied                        0\n",
              "winner               Mumbai Indians\n",
              "win_by_runs                     146\n",
              "win_by_wickets                    0\n",
              "player_of_match         LMP Simmons\n",
              "venue              Feroz Shah Kotla\n",
              "umpire1                 Nitin Menon\n",
              "umpire2                   CK Nandan\n",
              "umpire3                         NaN\n",
              "Name: 43, dtype: object"
            ]
          },
          "metadata": {
            "tags": []
          },
          "execution_count": 22
        }
      ]
    },
    {
      "cell_type": "code",
      "metadata": {
        "colab": {
          "base_uri": "https://localhost:8080/",
          "height": 35
        },
        "id": "20q83Fb1vYaQ",
        "outputId": "962493c0-7964-4348-e1a8-4ed4a8693be9"
      },
      "source": [
        "#Team won by minimum runs\n",
        "df.iloc[df[df['win_by_runs'].ge(1)].win_by_runs.idxmin()]['winner']"
      ],
      "execution_count": null,
      "outputs": [
        {
          "output_type": "execute_result",
          "data": {
            "application/vnd.google.colaboratory.intrinsic+json": {
              "type": "string"
            },
            "text/plain": [
              "'Mumbai Indians'"
            ]
          },
          "metadata": {
            "tags": []
          },
          "execution_count": 23
        }
      ]
    },
    {
      "cell_type": "code",
      "metadata": {
        "colab": {
          "base_uri": "https://localhost:8080/",
          "height": 35
        },
        "id": "qfTCBkp6vaDI",
        "outputId": "abab6ebb-2791-4d6f-a6ef-f37ff661fb80"
      },
      "source": [
        "# Team won by maximum wickets\n",
        "df.iloc[df['win_by_wickets'].idxmax()]['winner']"
      ],
      "execution_count": null,
      "outputs": [
        {
          "output_type": "execute_result",
          "data": {
            "application/vnd.google.colaboratory.intrinsic+json": {
              "type": "string"
            },
            "text/plain": [
              "'Kolkata Knight Riders'"
            ]
          },
          "metadata": {
            "tags": []
          },
          "execution_count": 24
        }
      ]
    },
    {
      "cell_type": "code",
      "metadata": {
        "colab": {
          "base_uri": "https://localhost:8080/"
        },
        "id": "CxrFgpjIvfp1",
        "outputId": "f8f9bcb9-8ce8-49e6-817e-c546eaf56617"
      },
      "source": [
        "df.iloc[df['win_by_runs'].idxmax()]"
      ],
      "execution_count": null,
      "outputs": [
        {
          "output_type": "execute_result",
          "data": {
            "text/plain": [
              "id                               44\n",
              "season                         2017\n",
              "city                          Delhi\n",
              "date                     2017-05-06\n",
              "team1                Mumbai Indians\n",
              "team2              Delhi Daredevils\n",
              "toss_winner        Delhi Daredevils\n",
              "toss_decision                 field\n",
              "result                       normal\n",
              "dl_applied                        0\n",
              "winner               Mumbai Indians\n",
              "win_by_runs                     146\n",
              "win_by_wickets                    0\n",
              "player_of_match         LMP Simmons\n",
              "venue              Feroz Shah Kotla\n",
              "umpire1                 Nitin Menon\n",
              "umpire2                   CK Nandan\n",
              "umpire3                         NaN\n",
              "Name: 43, dtype: object"
            ]
          },
          "metadata": {
            "tags": []
          },
          "execution_count": 25
        }
      ]
    },
    {
      "cell_type": "code",
      "metadata": {
        "colab": {
          "base_uri": "https://localhost:8080/"
        },
        "id": "iMWgfFN9vhPr",
        "outputId": "3169dfb1-8106-4e02-f5ce-05e8d2bb7446"
      },
      "source": [
        "batting_first['winner'].value_counts()"
      ],
      "execution_count": null,
      "outputs": [
        {
          "output_type": "execute_result",
          "data": {
            "text/plain": [
              "Mumbai Indians                 57\n",
              "Chennai Super Kings            52\n",
              "Kings XI Punjab                38\n",
              "Kolkata Knight Riders          36\n",
              "Royal Challengers Bangalore    35\n",
              "Sunrisers Hyderabad            30\n",
              "Rajasthan Royals               27\n",
              "Delhi Daredevils               25\n",
              "Deccan Chargers                18\n",
              "Pune Warriors                   6\n",
              "Rising Pune Supergiant          5\n",
              "Delhi Capitals                  3\n",
              "Rising Pune Supergiants         2\n",
              "Kochi Tuskers Kerala            2\n",
              "Gujarat Lions                   1\n",
              "Name: winner, dtype: int64"
            ]
          },
          "metadata": {
            "tags": []
          },
          "execution_count": 26
        }
      ]
    },
    {
      "cell_type": "code",
      "metadata": {
        "colab": {
          "base_uri": "https://localhost:8080/"
        },
        "id": "ib4A2TYPvmxc",
        "outputId": "8ccbc92e-6920-4fc6-b963-55cbda93624a"
      },
      "source": [
        "batting_first['winner'].value_counts().keys()"
      ],
      "execution_count": null,
      "outputs": [
        {
          "output_type": "execute_result",
          "data": {
            "text/plain": [
              "Index(['Mumbai Indians', 'Chennai Super Kings', 'Kings XI Punjab',\n",
              "       'Kolkata Knight Riders', 'Royal Challengers Bangalore',\n",
              "       'Sunrisers Hyderabad', 'Rajasthan Royals', 'Delhi Daredevils',\n",
              "       'Deccan Chargers', 'Pune Warriors', 'Rising Pune Supergiant',\n",
              "       'Delhi Capitals', 'Rising Pune Supergiants', 'Kochi Tuskers Kerala',\n",
              "       'Gujarat Lions'],\n",
              "      dtype='object')"
            ]
          },
          "metadata": {
            "tags": []
          },
          "execution_count": 27
        }
      ]
    },
    {
      "cell_type": "code",
      "metadata": {
        "id": "E56ritX3vv-J"
      },
      "source": [
        "batting_second=df[df['win_by_wickets']!=0]"
      ],
      "execution_count": null,
      "outputs": []
    },
    {
      "cell_type": "code",
      "metadata": {
        "colab": {
          "base_uri": "https://localhost:8080/",
          "height": 450
        },
        "id": "TxDB4YH9v0PX",
        "outputId": "9123a39d-8340-4b0c-f59c-e2ffe7ab235c"
      },
      "source": [
        "batting_second.head()"
      ],
      "execution_count": null,
      "outputs": [
        {
          "output_type": "execute_result",
          "data": {
            "text/html": [
              "<div>\n",
              "<style scoped>\n",
              "    .dataframe tbody tr th:only-of-type {\n",
              "        vertical-align: middle;\n",
              "    }\n",
              "\n",
              "    .dataframe tbody tr th {\n",
              "        vertical-align: top;\n",
              "    }\n",
              "\n",
              "    .dataframe thead th {\n",
              "        text-align: right;\n",
              "    }\n",
              "</style>\n",
              "<table border=\"1\" class=\"dataframe\">\n",
              "  <thead>\n",
              "    <tr style=\"text-align: right;\">\n",
              "      <th></th>\n",
              "      <th>id</th>\n",
              "      <th>season</th>\n",
              "      <th>city</th>\n",
              "      <th>date</th>\n",
              "      <th>team1</th>\n",
              "      <th>team2</th>\n",
              "      <th>toss_winner</th>\n",
              "      <th>toss_decision</th>\n",
              "      <th>result</th>\n",
              "      <th>dl_applied</th>\n",
              "      <th>winner</th>\n",
              "      <th>win_by_runs</th>\n",
              "      <th>win_by_wickets</th>\n",
              "      <th>player_of_match</th>\n",
              "      <th>venue</th>\n",
              "      <th>umpire1</th>\n",
              "      <th>umpire2</th>\n",
              "      <th>umpire3</th>\n",
              "    </tr>\n",
              "  </thead>\n",
              "  <tbody>\n",
              "    <tr>\n",
              "      <th>1</th>\n",
              "      <td>2</td>\n",
              "      <td>2017</td>\n",
              "      <td>Pune</td>\n",
              "      <td>2017-04-06</td>\n",
              "      <td>Mumbai Indians</td>\n",
              "      <td>Rising Pune Supergiant</td>\n",
              "      <td>Rising Pune Supergiant</td>\n",
              "      <td>field</td>\n",
              "      <td>normal</td>\n",
              "      <td>0</td>\n",
              "      <td>Rising Pune Supergiant</td>\n",
              "      <td>0</td>\n",
              "      <td>7</td>\n",
              "      <td>SPD Smith</td>\n",
              "      <td>Maharashtra Cricket Association Stadium</td>\n",
              "      <td>A Nand Kishore</td>\n",
              "      <td>S Ravi</td>\n",
              "      <td>NaN</td>\n",
              "    </tr>\n",
              "    <tr>\n",
              "      <th>2</th>\n",
              "      <td>3</td>\n",
              "      <td>2017</td>\n",
              "      <td>Rajkot</td>\n",
              "      <td>2017-04-07</td>\n",
              "      <td>Gujarat Lions</td>\n",
              "      <td>Kolkata Knight Riders</td>\n",
              "      <td>Kolkata Knight Riders</td>\n",
              "      <td>field</td>\n",
              "      <td>normal</td>\n",
              "      <td>0</td>\n",
              "      <td>Kolkata Knight Riders</td>\n",
              "      <td>0</td>\n",
              "      <td>10</td>\n",
              "      <td>CA Lynn</td>\n",
              "      <td>Saurashtra Cricket Association Stadium</td>\n",
              "      <td>Nitin Menon</td>\n",
              "      <td>CK Nandan</td>\n",
              "      <td>NaN</td>\n",
              "    </tr>\n",
              "    <tr>\n",
              "      <th>3</th>\n",
              "      <td>4</td>\n",
              "      <td>2017</td>\n",
              "      <td>Indore</td>\n",
              "      <td>2017-04-08</td>\n",
              "      <td>Rising Pune Supergiant</td>\n",
              "      <td>Kings XI Punjab</td>\n",
              "      <td>Kings XI Punjab</td>\n",
              "      <td>field</td>\n",
              "      <td>normal</td>\n",
              "      <td>0</td>\n",
              "      <td>Kings XI Punjab</td>\n",
              "      <td>0</td>\n",
              "      <td>6</td>\n",
              "      <td>GJ Maxwell</td>\n",
              "      <td>Holkar Cricket Stadium</td>\n",
              "      <td>AK Chaudhary</td>\n",
              "      <td>C Shamshuddin</td>\n",
              "      <td>NaN</td>\n",
              "    </tr>\n",
              "    <tr>\n",
              "      <th>5</th>\n",
              "      <td>6</td>\n",
              "      <td>2017</td>\n",
              "      <td>Hyderabad</td>\n",
              "      <td>2017-04-09</td>\n",
              "      <td>Gujarat Lions</td>\n",
              "      <td>Sunrisers Hyderabad</td>\n",
              "      <td>Sunrisers Hyderabad</td>\n",
              "      <td>field</td>\n",
              "      <td>normal</td>\n",
              "      <td>0</td>\n",
              "      <td>Sunrisers Hyderabad</td>\n",
              "      <td>0</td>\n",
              "      <td>9</td>\n",
              "      <td>Rashid Khan</td>\n",
              "      <td>Rajiv Gandhi International Stadium, Uppal</td>\n",
              "      <td>A Deshmukh</td>\n",
              "      <td>NJ Llong</td>\n",
              "      <td>NaN</td>\n",
              "    </tr>\n",
              "    <tr>\n",
              "      <th>6</th>\n",
              "      <td>7</td>\n",
              "      <td>2017</td>\n",
              "      <td>Mumbai</td>\n",
              "      <td>2017-04-09</td>\n",
              "      <td>Kolkata Knight Riders</td>\n",
              "      <td>Mumbai Indians</td>\n",
              "      <td>Mumbai Indians</td>\n",
              "      <td>field</td>\n",
              "      <td>normal</td>\n",
              "      <td>0</td>\n",
              "      <td>Mumbai Indians</td>\n",
              "      <td>0</td>\n",
              "      <td>4</td>\n",
              "      <td>N Rana</td>\n",
              "      <td>Wankhede Stadium</td>\n",
              "      <td>Nitin Menon</td>\n",
              "      <td>CK Nandan</td>\n",
              "      <td>NaN</td>\n",
              "    </tr>\n",
              "  </tbody>\n",
              "</table>\n",
              "</div>"
            ],
            "text/plain": [
              "   id  season       city  ...         umpire1        umpire2 umpire3\n",
              "1   2    2017       Pune  ...  A Nand Kishore         S Ravi     NaN\n",
              "2   3    2017     Rajkot  ...     Nitin Menon      CK Nandan     NaN\n",
              "3   4    2017     Indore  ...    AK Chaudhary  C Shamshuddin     NaN\n",
              "5   6    2017  Hyderabad  ...      A Deshmukh       NJ Llong     NaN\n",
              "6   7    2017     Mumbai  ...     Nitin Menon      CK Nandan     NaN\n",
              "\n",
              "[5 rows x 18 columns]"
            ]
          },
          "metadata": {
            "tags": []
          },
          "execution_count": 29
        }
      ]
    },
    {
      "cell_type": "code",
      "metadata": {
        "colab": {
          "base_uri": "https://localhost:8080/"
        },
        "id": "y6N348wWv2I3",
        "outputId": "259861d7-97ed-41a5-ed89-ea2ccadae4bd"
      },
      "source": [
        "batting_second['winner'].value_counts()"
      ],
      "execution_count": null,
      "outputs": [
        {
          "output_type": "execute_result",
          "data": {
            "text/plain": [
              "Kolkata Knight Riders          56\n",
              "Mumbai Indians                 50\n",
              "Chennai Super Kings            48\n",
              "Royal Challengers Bangalore    48\n",
              "Rajasthan Royals               46\n",
              "Kings XI Punjab                42\n",
              "Delhi Daredevils               42\n",
              "Sunrisers Hyderabad            27\n",
              "Gujarat Lions                  12\n",
              "Deccan Chargers                11\n",
              "Pune Warriors                   6\n",
              "Delhi Capitals                  6\n",
              "Rising Pune Supergiant          5\n",
              "Kochi Tuskers Kerala            4\n",
              "Rising Pune Supergiants         3\n",
              "Name: winner, dtype: int64"
            ]
          },
          "metadata": {
            "tags": []
          },
          "execution_count": 30
        }
      ]
    },
    {
      "cell_type": "code",
      "metadata": {
        "colab": {
          "base_uri": "https://localhost:8080/"
        },
        "id": "zhEGV3H0v62E",
        "outputId": "da9a695a-d145-4469-d2a3-055ee94f3288"
      },
      "source": [
        "df['season'].value_counts()"
      ],
      "execution_count": null,
      "outputs": [
        {
          "output_type": "execute_result",
          "data": {
            "text/plain": [
              "2013    76\n",
              "2012    74\n",
              "2011    73\n",
              "2019    60\n",
              "2018    60\n",
              "2016    60\n",
              "2014    60\n",
              "2010    60\n",
              "2017    59\n",
              "2015    59\n",
              "2008    58\n",
              "2009    57\n",
              "Name: season, dtype: int64"
            ]
          },
          "metadata": {
            "tags": []
          },
          "execution_count": 32
        }
      ]
    },
    {
      "cell_type": "code",
      "metadata": {
        "colab": {
          "base_uri": "https://localhost:8080/"
        },
        "id": "DajgOO-cv9n1",
        "outputId": "b5c7a647-600f-45bc-863d-315c0c590827"
      },
      "source": [
        "df['city'].value_counts()"
      ],
      "execution_count": null,
      "outputs": [
        {
          "output_type": "execute_result",
          "data": {
            "text/plain": [
              "Mumbai            101\n",
              "Kolkata            77\n",
              "Delhi              74\n",
              "Bangalore          66\n",
              "Hyderabad          64\n",
              "Chennai            57\n",
              "Jaipur             47\n",
              "Chandigarh         46\n",
              "Pune               38\n",
              "Durban             15\n",
              "Bengaluru          14\n",
              "Visakhapatnam      13\n",
              "Ahmedabad          12\n",
              "Centurion          12\n",
              "Rajkot             10\n",
              "Mohali             10\n",
              "Dharamsala          9\n",
              "Indore              9\n",
              "Johannesburg        8\n",
              "Cuttack             7\n",
              "Cape Town           7\n",
              "Ranchi              7\n",
              "Abu Dhabi           7\n",
              "Port Elizabeth      7\n",
              "Raipur              6\n",
              "Sharjah             6\n",
              "Kochi               5\n",
              "Kanpur              4\n",
              "Nagpur              3\n",
              "Kimberley           3\n",
              "East London         3\n",
              "Bloemfontein        2\n",
              "Name: city, dtype: int64"
            ]
          },
          "metadata": {
            "tags": []
          },
          "execution_count": 33
        }
      ]
    },
    {
      "cell_type": "markdown",
      "metadata": {
        "id": "gdg19ggnwCxZ"
      },
      "source": [
        "Data Visualization"
      ]
    },
    {
      "cell_type": "code",
      "metadata": {
        "colab": {
          "base_uri": "https://localhost:8080/",
          "height": 353
        },
        "id": "VY4ohXaov_Jr",
        "outputId": "a00f0da2-0d90-4038-d731-71e20d0d3782"
      },
      "source": [
        "corr=df.corr()\n",
        "sns.heatmap(corr,annot=True)"
      ],
      "execution_count": null,
      "outputs": [
        {
          "output_type": "execute_result",
          "data": {
            "text/plain": [
              "<matplotlib.axes._subplots.AxesSubplot at 0x7fb948cd0350>"
            ]
          },
          "metadata": {
            "tags": []
          },
          "execution_count": 34
        },
        {
          "output_type": "display_data",
          "data": {
            "image/png": "[encoded data removed]",
            "text/plain": [
              "<Figure size 432x288 with 2 Axes>"
            ]
          },
          "metadata": {
            "tags": [],
            "needs_background": "light"
          }
        }
      ]
    },
    {
      "cell_type": "code",
      "metadata": {
        "colab": {
          "base_uri": "https://localhost:8080/",
          "height": 580
        },
        "id": "tb5TXl57wJHU",
        "outputId": "f37bca65-b52a-4123-f1b1-b19294257642"
      },
      "source": [
        "plt.figure(figsize=(10,9))\n",
        "plt.hist(batting_first['win_by_runs'])\n",
        "plt.title('Distribution of runs')\n",
        "plt.title('Distribution of runs',fontsize=30)\n",
        "plt.xlabel(\"runs\")\n",
        "plt.show()"
      ],
      "execution_count": null,
      "outputs": [
        {
          "output_type": "display_data",
          "data": {
            "image/png": "[encoded data removed]",
            "text/plain": [
              "<Figure size 720x648 with 1 Axes>"
            ]
          },
          "metadata": {
            "tags": [],
            "needs_background": "light"
          }
        }
      ]
    },
    {
      "cell_type": "code",
      "metadata": {
        "colab": {
          "base_uri": "https://localhost:8080/",
          "height": 566
        },
        "id": "CzPsF_mlwPZU",
        "outputId": "b0b4ed1d-c2d9-4d99-925e-aabaa17abde7"
      },
      "source": [
        "plt.figure(figsize=(13,9))\n",
        "plt.title('Batting first Winner',fontsize=30)\n",
        "plt.bar(list(batting_first['winner'].value_counts()[0:5].keys()),list(batting_first['winner'].value_counts())[0:5],color=[\"purple\",\"gold\"])\n",
        "plt.show()"
      ],
      "execution_count": null,
      "outputs": [
        {
          "output_type": "display_data",
          "data": {
            "image/png": "[encoded data removed]",
            "text/plain": [
              "<Figure size 936x648 with 1 Axes>"
            ]
          },
          "metadata": {
            "tags": [],
            "needs_background": "light"
          }
        }
      ]
    },
    {
      "cell_type": "code",
      "metadata": {
        "colab": {
          "base_uri": "https://localhost:8080/",
          "height": 512
        },
        "id": "m21MQm4AwXBr",
        "outputId": "f0d3826e-3aa7-42c6-b05d-9720a55679b5"
      },
      "source": [
        "plt.figure(figsize=(13,8))\n",
        "plt.bar(list(batting_second['winner'].value_counts()[0:5].keys()),list(batting_second['winner'].value_counts())[0:5],color=[\"red\",\"blue\"])\n",
        "plt.title('Batting second Winner',fontsize=30)\n",
        "plt.show()"
      ],
      "execution_count": null,
      "outputs": [
        {
          "output_type": "display_data",
          "data": {
            "image/png": "[encoded data removed]",
            "text/plain": [
              "<Figure size 936x576 with 1 Axes>"
            ]
          },
          "metadata": {
            "tags": [],
            "needs_background": "light"
          }
        }
      ]
    },
    {
      "cell_type": "code",
      "metadata": {
        "colab": {
          "base_uri": "https://localhost:8080/",
          "height": 512
        },
        "id": "WAs3RVVdwktv",
        "outputId": "1ad00ca4-153d-4b95-e867-4a5d1ff5007a"
      },
      "source": [
        "plt.figure(figsize=(10,8))\n",
        "plt.hist(batting_second['win_by_wickets'],bins=30)\n",
        "plt.title('Win by wickets',fontsize=30)\n",
        "plt.show()"
      ],
      "execution_count": null,
      "outputs": [
        {
          "output_type": "display_data",
          "data": {
            "image/png": "[encoded data removed]",
            "text/plain": [
              "<Figure size 720x576 with 1 Axes>"
            ]
          },
          "metadata": {
            "tags": [],
            "needs_background": "light"
          }
        }
      ]
    },
    {
      "cell_type": "code",
      "metadata": {
        "colab": {
          "base_uri": "https://localhost:8080/",
          "height": 526
        },
        "id": "PmUmSlI9wujh",
        "outputId": "4b738931-6f66-43ce-c16b-25eeae151972"
      },
      "source": [
        "plt.figure(figsize=(10,8))\n",
        "sns.countplot(x='season', data=df)\n",
        "plt.title('Season',fontsize=30)\n",
        "plt.show()"
      ],
      "execution_count": null,
      "outputs": [
        {
          "output_type": "display_data",
          "data": {
            "image/png": "[encoded data removed]",
            "text/plain": [
              "<Figure size 720x576 with 1 Axes>"
            ]
          },
          "metadata": {
            "tags": [],
            "needs_background": "light"
          }
        }
      ]
    },
    {
      "cell_type": "code",
      "metadata": {
        "colab": {
          "base_uri": "https://localhost:8080/",
          "height": 359
        },
        "id": "5qZL-Su0wybN",
        "outputId": "026f4a41-842f-40cb-9e3f-ede4a15a7387"
      },
      "source": [
        "top_players = df.player_of_match.value_counts()[:10]\n",
        "plt.figure(figsize=(10,9))\n",
        "fig, ax = plt.subplots()\n",
        "ax.set_ylim([0,20])\n",
        "ax.set_ylabel(\"Count\")\n",
        "ax.set_title(\"Top player of the match Winners\")\n",
        "plt.title('Top player of the match Winners',fontsize=20)\n",
        "top_players.plot.bar()\n",
        "sns.barplot(x = top_players.index, y = top_players, orient='v', palette=\"Reds\");\n",
        "plt.show()"
      ],
      "execution_count": null,
      "outputs": [
        {
          "output_type": "display_data",
          "data": {
            "text/plain": [
              "<Figure size 720x648 with 0 Axes>"
            ]
          },
          "metadata": {
            "tags": []
          }
        },
        {
          "output_type": "display_data",
          "data": {
            "image/png": "[encoded data removed]",
            "text/plain": [
              "<Figure size 432x288 with 1 Axes>"
            ]
          },
          "metadata": {
            "tags": [],
            "needs_background": "light"
          }
        }
      ]
    },
    {
      "cell_type": "code",
      "metadata": {
        "id": "TaCx8ZUlw30B"
      },
      "source": [
        ""
      ],
      "execution_count": null,
      "outputs": []
    }
  ]
}